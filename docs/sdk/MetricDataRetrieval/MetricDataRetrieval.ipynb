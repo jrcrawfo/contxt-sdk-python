{
 "cells": [
  {
   "cell_type": "markdown",
   "id": "3085cfd5-debb-46f2-b70a-fe394193f41e",
   "metadata": {},
   "source": [
    "# Goal: Extract facility metric data using the Contxt Python SDK\n",
    "\n",
    "Contxt organizes its data in a Customer to Facility to Metric hierarchy. To retrieve metric data for all facilities, the general operation flow is:\n",
    "1. Instance customer client\n",
    "1. Locate customer facilities\n",
    "1. Locate customer metric definitions\n",
    "1. Retrieve metrics for each customer facility.\n",
    "\n",
    "This document demonstrates this flow using the [Contxt Python SDK](https://github.com/ndustrialio/contxt-sdk-python).\n",
    "\n",
    "Note: this example is functional but not optimized. At a minimum, multiprocessing could be used to speed up the data request for a large number of facilities."
   ]
  },
  {
   "cell_type": "code",
   "execution_count": 1,
   "id": "f34432aa-19de-48ce-a2c0-f2ab624b1573",
   "metadata": {},
   "outputs": [],
   "source": [
    "from contxt.cli.clients import Clients\n",
    "from contxt.utils.serializer import Serializer\n",
    "\n",
    "import argparse\n",
    "import os, sys\n",
    "from random import randint\n",
    "from pathlib import Path\n",
    "from datetime import datetime, timedelta\n",
    "import pytz"
   ]
  },
  {
   "cell_type": "markdown",
   "id": "5aa09ed1-8a24-4299-bc3c-b9f8deee5202",
   "metadata": {},
   "source": [
    "# How long ago should we look for data?\n",
    "\n",
    "The metric data retrieval service allows bounding a time window for returned data with `effective_start_time` and `effective_end_time` parameters. These values must be reported as ISO 8601 strings matching the `\"%Y-%m-%dT%H:%M:%SZ\"` format.\n",
    "\n",
    "In this document, we're going to retrieve all data between now and the date in the `earliest_date` variable we declare below."
   ]
  },
  {
   "cell_type": "code",
   "execution_count": 2,
   "id": "530e5ad6-a8a4-4468-8331-bbb9d3b78b52",
   "metadata": {},
   "outputs": [],
   "source": [
    "earliest_date = datetime(2022, 1, 1, tzinfo=pytz.UTC).strftime(\"%Y-%m-%dT%H:%M:%SZ\")"
   ]
  },
  {
   "cell_type": "markdown",
   "id": "9a3294ec-ec03-4d97-9474-5f07d760f357",
   "metadata": {},
   "source": [
    "# Initialize SDK client\n",
    "\n",
    "If you are in a newly installed environment, you will need to configure your environment's Contxt authentication secrets with the CLI command: `contxt auth login` before running this notebook any further."
   ]
  },
  {
   "cell_type": "code",
   "execution_count": 3,
   "id": "1fcda27d-98b8-4dd9-bdfe-bfcdf4624811",
   "metadata": {},
   "outputs": [],
   "source": [
    "clients = Clients(env=\"production\", org_slug=\"lineage\")"
   ]
  },
  {
   "cell_type": "markdown",
   "id": "ee6bf557-71be-4a7b-8509-fcfc2409efca",
   "metadata": {},
   "source": [
    "# Get organization facilities\n",
    "\n",
    "The next cell retrieves all of the organization's facilities."
   ]
  },
  {
   "cell_type": "code",
   "execution_count": 4,
   "id": "9d3d506f-942e-4150-b664-9700703485fe",
   "metadata": {},
   "outputs": [
    {
     "data": {
      "text/plain": [
       "576"
      ]
     },
     "execution_count": 4,
     "metadata": {},
     "output_type": "execute_result"
    }
   ],
   "source": [
    "facilities = clients.facilities.get_facilities()\n",
    "len(facilities)"
   ]
  },
  {
   "cell_type": "markdown",
   "id": "9b808882-9a0b-4e24-914f-9c7b279d326d",
   "metadata": {},
   "source": [
    "We'll use a randomly selected facility for the rest of the notebook"
   ]
  },
  {
   "cell_type": "code",
   "execution_count": 5,
   "id": "3f83dc89-8d22-4870-8438-a26c36a504c8",
   "metadata": {},
   "outputs": [],
   "source": [
    "facilities = [facilities[randint(0, len(facilities))]]"
   ]
  },
  {
   "cell_type": "markdown",
   "id": "979098fd-1f22-4fe6-8aea-91751875d738",
   "metadata": {},
   "source": [
    "# Retrieve Customer Metrics"
   ]
  },
  {
   "cell_type": "markdown",
   "id": "e88d5773-9fd6-4425-ad68-fdef4e0e6300",
   "metadata": {},
   "source": [
    "## Locate the facility type definition\n",
    "\n",
    "Contxt's dynamic nature allows for many asset types, but also leads to each organization having a unique definition for their asset types. The below code cell scans the asset type definitions for the organization and locates the definition for the `Facility` asset type. Most critically, later code will depend on the `Facility` asset type definition's unique id."
   ]
  },
  {
   "cell_type": "code",
   "execution_count": 6,
   "id": "f6c3deff-4577-49e9-9625-14d6ab3d6d4a",
   "metadata": {},
   "outputs": [
    {
     "data": {
      "text/plain": [
       "AssetType(label='Facility', description='Physical Facility Locations', organization_id='02efa741-a96f-4124-a463-ae13a704b8fc', id='616eee50-5dd3-4009-b8a3-dedfd8a7d56d', is_global=True, global_asset_type_parent_id='5f310899-d8f9-4dac-ae82-cedb2048a8ef', parent_id=None, hierarchy_level=1, created_at=datetime.datetime(2018, 11, 15, 16, 34, 17, 41000, tzinfo=datetime.timezone.utc), updated_at=datetime.datetime(2018, 11, 15, 16, 34, 17, 41000, tzinfo=datetime.timezone.utc))"
      ]
     },
     "execution_count": 6,
     "metadata": {},
     "output_type": "execute_result"
    }
   ],
   "source": [
    "asset_types = clients.assets.get_asset_types()\n",
    "facility_type = [atype for atype in asset_types if atype.label == 'Facility'][0]\n",
    "facility_type"
   ]
  },
  {
   "cell_type": "markdown",
   "id": "a4f1eedf-2526-4136-95c6-7613eaf4b3bb",
   "metadata": {},
   "source": [
    "## Retrieve Metric Definitions\n",
    "\n",
    "A call to the SDK client's `get_metrics` function with the facility_type id will retrieve the full list of metric definitions. The below code cell demonstrates this with a filter applied to drop an unwanted definition."
   ]
  },
  {
   "cell_type": "code",
   "execution_count": 7,
   "id": "82d6c916-1e3b-47fc-b015-e4bea02abb7b",
   "metadata": {},
   "outputs": [
    {
     "name": "stdout",
     "output_type": "stream",
     "text": [
      "Number of definitions: 69\n"
     ]
    }
   ],
   "source": [
    "metric_definitions = [mdef for mdef in clients.assets.get_metrics(facility_type.id) if mdef.label != \"Blended Rate\"]\n",
    "print(f\"Number of definitions: {len(metric_definitions)}\")"
   ]
  },
  {
   "cell_type": "markdown",
   "id": "a69c39b9-3374-481b-85fc-a1bd78185cc4",
   "metadata": {},
   "source": [
    "## Retrieving Metric Values\n",
    "\n",
    "Below, we make a python dataclass from our selected metrics. This will allow a degree of data validation as we build the full dataset over relying on simple dictionaries of data."
   ]
  },
  {
   "cell_type": "code",
   "execution_count": 8,
   "id": "bc7fb36e-b720-4256-91a8-517fb9b7437b",
   "metadata": {},
   "outputs": [],
   "source": [
    "from dataclasses import make_dataclass, field\n",
    "from typing import Any\n",
    "\n",
    "\n",
    "FacilityEntry = make_dataclass(\n",
    "    'FacilityEntry',\n",
    "   [\"facility\", \"date\"] + [(mdef.label, Any, field(default=None)) for mdef in metric_definitions])"
   ]
  },
  {
   "cell_type": "markdown",
   "id": "678ea3fe-ac16-4b1d-841d-45eb8713c482",
   "metadata": {},
   "source": [
    "Next, we iterate over each metric for each facility to build out the full data set. Much of the work in this next code cell is in reorganizing the data returned by Contxt into a structure that allows building a single unified table. In this case, that structure is a list of items where each item is all of a Facility's metrics for a given date.\n",
    "\n",
    "As written, this code can take about ~10 seconds per facility."
   ]
  },
  {
   "cell_type": "code",
   "execution_count": 9,
   "id": "ff3eb3b7-241e-4261-9dd4-a67de8f530cf",
   "metadata": {},
   "outputs": [
    {
     "name": "stdout",
     "output_type": "stream",
     "text": [
      "Retrieved 690 data points\n"
     ]
    }
   ],
   "source": [
    "all_facility_data = []\n",
    "\n",
    "# For each facility\n",
    "for idx, facility in enumerate(facilities):\n",
    "    facility_data = {}\n",
    "    \n",
    "    # For each metric of each facility\n",
    "    for metric_def in metric_definitions:\n",
    "        \n",
    "        # Try to retrieve metric data, and skip this metric if it fails\n",
    "        try:\n",
    "            metric_values = clients.ems.get_metric_values(\n",
    "                facility.asset_id, metric_def.label, params={\"effective_start_date\": earliest_date})\n",
    "        except Exception:\n",
    "            # print(f\"\\t{metric_def.label} not found for {facility.name}\")\n",
    "            continue\n",
    "            \n",
    "        # Reformat metric data into table structure\n",
    "        for metric_value in metric_values:\n",
    "            if metric_value.effective_start_date not in facility_data:\n",
    "                facility_data[metric_value.effective_start_date] = {metric_def.label: metric_value.value}\n",
    "            else:\n",
    "                facility_data[metric_value.effective_start_date][metric_def.label] = metric_value.value\n",
    "    all_facility_data.extend([FacilityEntry(facility.name, date, **fe) for date, fe in facility_data.items()])\n",
    "    # print(f\"Retrieve data for {facility.name}\")\n",
    "print(f\"Retrieved {len(all_facility_data) * len(metric_definitions)} data points\")"
   ]
  },
  {
   "cell_type": "markdown",
   "id": "13e94f91-b569-4946-b065-eeb444372284",
   "metadata": {},
   "source": [
    "# Now you have your data!\n",
    "\n",
    "At this point, the facility data has been pulled into the python environment and can be manipulated or handed off to other tools. For example, this list of `FacilityEntry` can be converted directly to a Pandas dataframe like so:"
   ]
  },
  {
   "cell_type": "code",
   "execution_count": 10,
   "id": "1b9a0e17-a271-4227-a5ff-b9f7b329d552",
   "metadata": {},
   "outputs": [
    {
     "data": {
      "text/html": [
       "<div>\n",
       "<style scoped>\n",
       "    .dataframe tbody tr th:only-of-type {\n",
       "        vertical-align: middle;\n",
       "    }\n",
       "\n",
       "    .dataframe tbody tr th {\n",
       "        vertical-align: top;\n",
       "    }\n",
       "\n",
       "    .dataframe thead th {\n",
       "        text-align: right;\n",
       "    }\n",
       "</style>\n",
       "<table border=\"1\" class=\"dataframe\">\n",
       "  <thead>\n",
       "    <tr style=\"text-align: right;\">\n",
       "      <th></th>\n",
       "      <th>facility_daily_co2_factor</th>\n",
       "      <th>facility_daily_co2_tons</th>\n",
       "      <th>facility_daily_cubic_footage</th>\n",
       "      <th>facility_daily_electricity_spend</th>\n",
       "      <th>facility_daily_electricity_usage</th>\n",
       "      <th>facility_daily_iot_electricity_usage</th>\n",
       "      <th>facility_daily_kwh_per_cuft</th>\n",
       "      <th>facility_daily_rolling_average_blended_rate</th>\n",
       "      <th>facility_monthly_co2_factor</th>\n",
       "      <th>facility_monthly_co2_tons</th>\n",
       "      <th>facility_monthly_cubic_footage</th>\n",
       "      <th>facility_monthly_cubic_foot_eui</th>\n",
       "      <th>facility_monthly_electricity_spend</th>\n",
       "      <th>facility_monthly_electricity_usage</th>\n",
       "      <th>facility_monthly_kwh_per_cuft</th>\n",
       "      <th>facility_monthly_max_cuft</th>\n",
       "      <th>facility_monthly_rolling_year_cubic_footage</th>\n",
       "      <th>facility_monthly_rolling_year_elec_kbtu</th>\n",
       "    </tr>\n",
       "  </thead>\n",
       "  <tbody>\n",
       "    <tr>\n",
       "      <th>count</th>\n",
       "      <td>10.000000</td>\n",
       "      <td>10.000000</td>\n",
       "      <td>10.0</td>\n",
       "      <td>10.000000</td>\n",
       "      <td>10.000000</td>\n",
       "      <td>10.000000</td>\n",
       "      <td>10.000000</td>\n",
       "      <td>10.000000</td>\n",
       "      <td>1.000000</td>\n",
       "      <td>1.000000</td>\n",
       "      <td>1.0</td>\n",
       "      <td>1.000000</td>\n",
       "      <td>1.00000</td>\n",
       "      <td>1.0</td>\n",
       "      <td>1.000000</td>\n",
       "      <td>1.0</td>\n",
       "      <td>1.0</td>\n",
       "      <td>1.000000e+00</td>\n",
       "    </tr>\n",
       "    <tr>\n",
       "      <th>mean</th>\n",
       "      <td>0.823639</td>\n",
       "      <td>17.210435</td>\n",
       "      <td>4050000.0</td>\n",
       "      <td>3708.307724</td>\n",
       "      <td>41791.210000</td>\n",
       "      <td>41791.210000</td>\n",
       "      <td>0.010319</td>\n",
       "      <td>0.088734</td>\n",
       "      <td>0.823639</td>\n",
       "      <td>172.104352</td>\n",
       "      <td>4050000.0</td>\n",
       "      <td>32.884494</td>\n",
       "      <td>37083.07724</td>\n",
       "      <td>417912.1</td>\n",
       "      <td>0.103188</td>\n",
       "      <td>4050000.0</td>\n",
       "      <td>4050000.0</td>\n",
       "      <td>1.331822e+08</td>\n",
       "    </tr>\n",
       "    <tr>\n",
       "      <th>std</th>\n",
       "      <td>0.000000</td>\n",
       "      <td>5.976534</td>\n",
       "      <td>0.0</td>\n",
       "      <td>1287.689112</td>\n",
       "      <td>14512.509633</td>\n",
       "      <td>14512.509633</td>\n",
       "      <td>0.003583</td>\n",
       "      <td>0.000007</td>\n",
       "      <td>NaN</td>\n",
       "      <td>NaN</td>\n",
       "      <td>NaN</td>\n",
       "      <td>NaN</td>\n",
       "      <td>NaN</td>\n",
       "      <td>NaN</td>\n",
       "      <td>NaN</td>\n",
       "      <td>NaN</td>\n",
       "      <td>NaN</td>\n",
       "      <td>NaN</td>\n",
       "    </tr>\n",
       "    <tr>\n",
       "      <th>min</th>\n",
       "      <td>0.823639</td>\n",
       "      <td>2.085577</td>\n",
       "      <td>4050000.0</td>\n",
       "      <td>449.323113</td>\n",
       "      <td>5064.300000</td>\n",
       "      <td>5064.300000</td>\n",
       "      <td>0.001250</td>\n",
       "      <td>0.088724</td>\n",
       "      <td>0.823639</td>\n",
       "      <td>172.104352</td>\n",
       "      <td>4050000.0</td>\n",
       "      <td>32.884494</td>\n",
       "      <td>37083.07724</td>\n",
       "      <td>417912.1</td>\n",
       "      <td>0.103188</td>\n",
       "      <td>4050000.0</td>\n",
       "      <td>4050000.0</td>\n",
       "      <td>1.331822e+08</td>\n",
       "    </tr>\n",
       "    <tr>\n",
       "      <th>25%</th>\n",
       "      <td>0.823639</td>\n",
       "      <td>16.681511</td>\n",
       "      <td>4050000.0</td>\n",
       "      <td>3594.506823</td>\n",
       "      <td>40506.850000</td>\n",
       "      <td>40506.850000</td>\n",
       "      <td>0.010002</td>\n",
       "      <td>0.088729</td>\n",
       "      <td>0.823639</td>\n",
       "      <td>172.104352</td>\n",
       "      <td>4050000.0</td>\n",
       "      <td>32.884494</td>\n",
       "      <td>37083.07724</td>\n",
       "      <td>417912.1</td>\n",
       "      <td>0.103188</td>\n",
       "      <td>4050000.0</td>\n",
       "      <td>4050000.0</td>\n",
       "      <td>1.331822e+08</td>\n",
       "    </tr>\n",
       "    <tr>\n",
       "      <th>50%</th>\n",
       "      <td>0.823639</td>\n",
       "      <td>18.511245</td>\n",
       "      <td>4050000.0</td>\n",
       "      <td>3988.573420</td>\n",
       "      <td>44949.900000</td>\n",
       "      <td>44949.900000</td>\n",
       "      <td>0.011099</td>\n",
       "      <td>0.088734</td>\n",
       "      <td>0.823639</td>\n",
       "      <td>172.104352</td>\n",
       "      <td>4050000.0</td>\n",
       "      <td>32.884494</td>\n",
       "      <td>37083.07724</td>\n",
       "      <td>417912.1</td>\n",
       "      <td>0.103188</td>\n",
       "      <td>4050000.0</td>\n",
       "      <td>4050000.0</td>\n",
       "      <td>1.331822e+08</td>\n",
       "    </tr>\n",
       "    <tr>\n",
       "      <th>75%</th>\n",
       "      <td>0.823639</td>\n",
       "      <td>19.830880</td>\n",
       "      <td>4050000.0</td>\n",
       "      <td>4273.229547</td>\n",
       "      <td>48154.300000</td>\n",
       "      <td>48154.300000</td>\n",
       "      <td>0.011890</td>\n",
       "      <td>0.088739</td>\n",
       "      <td>0.823639</td>\n",
       "      <td>172.104352</td>\n",
       "      <td>4050000.0</td>\n",
       "      <td>32.884494</td>\n",
       "      <td>37083.07724</td>\n",
       "      <td>417912.1</td>\n",
       "      <td>0.103188</td>\n",
       "      <td>4050000.0</td>\n",
       "      <td>4050000.0</td>\n",
       "      <td>1.331822e+08</td>\n",
       "    </tr>\n",
       "    <tr>\n",
       "      <th>max</th>\n",
       "      <td>0.823639</td>\n",
       "      <td>23.099903</td>\n",
       "      <td>4050000.0</td>\n",
       "      <td>4976.840397</td>\n",
       "      <td>56092.300000</td>\n",
       "      <td>56092.300000</td>\n",
       "      <td>0.013850</td>\n",
       "      <td>0.088744</td>\n",
       "      <td>0.823639</td>\n",
       "      <td>172.104352</td>\n",
       "      <td>4050000.0</td>\n",
       "      <td>32.884494</td>\n",
       "      <td>37083.07724</td>\n",
       "      <td>417912.1</td>\n",
       "      <td>0.103188</td>\n",
       "      <td>4050000.0</td>\n",
       "      <td>4050000.0</td>\n",
       "      <td>1.331822e+08</td>\n",
       "    </tr>\n",
       "  </tbody>\n",
       "</table>\n",
       "</div>"
      ],
      "text/plain": [
       "       facility_daily_co2_factor  facility_daily_co2_tons  \\\n",
       "count                  10.000000                10.000000   \n",
       "mean                    0.823639                17.210435   \n",
       "std                     0.000000                 5.976534   \n",
       "min                     0.823639                 2.085577   \n",
       "25%                     0.823639                16.681511   \n",
       "50%                     0.823639                18.511245   \n",
       "75%                     0.823639                19.830880   \n",
       "max                     0.823639                23.099903   \n",
       "\n",
       "       facility_daily_cubic_footage  facility_daily_electricity_spend  \\\n",
       "count                          10.0                         10.000000   \n",
       "mean                      4050000.0                       3708.307724   \n",
       "std                             0.0                       1287.689112   \n",
       "min                       4050000.0                        449.323113   \n",
       "25%                       4050000.0                       3594.506823   \n",
       "50%                       4050000.0                       3988.573420   \n",
       "75%                       4050000.0                       4273.229547   \n",
       "max                       4050000.0                       4976.840397   \n",
       "\n",
       "       facility_daily_electricity_usage  facility_daily_iot_electricity_usage  \\\n",
       "count                         10.000000                             10.000000   \n",
       "mean                       41791.210000                          41791.210000   \n",
       "std                        14512.509633                          14512.509633   \n",
       "min                         5064.300000                           5064.300000   \n",
       "25%                        40506.850000                          40506.850000   \n",
       "50%                        44949.900000                          44949.900000   \n",
       "75%                        48154.300000                          48154.300000   \n",
       "max                        56092.300000                          56092.300000   \n",
       "\n",
       "       facility_daily_kwh_per_cuft  \\\n",
       "count                    10.000000   \n",
       "mean                      0.010319   \n",
       "std                       0.003583   \n",
       "min                       0.001250   \n",
       "25%                       0.010002   \n",
       "50%                       0.011099   \n",
       "75%                       0.011890   \n",
       "max                       0.013850   \n",
       "\n",
       "       facility_daily_rolling_average_blended_rate  \\\n",
       "count                                    10.000000   \n",
       "mean                                      0.088734   \n",
       "std                                       0.000007   \n",
       "min                                       0.088724   \n",
       "25%                                       0.088729   \n",
       "50%                                       0.088734   \n",
       "75%                                       0.088739   \n",
       "max                                       0.088744   \n",
       "\n",
       "       facility_monthly_co2_factor  facility_monthly_co2_tons  \\\n",
       "count                     1.000000                   1.000000   \n",
       "mean                      0.823639                 172.104352   \n",
       "std                            NaN                        NaN   \n",
       "min                       0.823639                 172.104352   \n",
       "25%                       0.823639                 172.104352   \n",
       "50%                       0.823639                 172.104352   \n",
       "75%                       0.823639                 172.104352   \n",
       "max                       0.823639                 172.104352   \n",
       "\n",
       "       facility_monthly_cubic_footage  facility_monthly_cubic_foot_eui  \\\n",
       "count                             1.0                         1.000000   \n",
       "mean                        4050000.0                        32.884494   \n",
       "std                               NaN                              NaN   \n",
       "min                         4050000.0                        32.884494   \n",
       "25%                         4050000.0                        32.884494   \n",
       "50%                         4050000.0                        32.884494   \n",
       "75%                         4050000.0                        32.884494   \n",
       "max                         4050000.0                        32.884494   \n",
       "\n",
       "       facility_monthly_electricity_spend  facility_monthly_electricity_usage  \\\n",
       "count                             1.00000                                 1.0   \n",
       "mean                          37083.07724                            417912.1   \n",
       "std                                   NaN                                 NaN   \n",
       "min                           37083.07724                            417912.1   \n",
       "25%                           37083.07724                            417912.1   \n",
       "50%                           37083.07724                            417912.1   \n",
       "75%                           37083.07724                            417912.1   \n",
       "max                           37083.07724                            417912.1   \n",
       "\n",
       "       facility_monthly_kwh_per_cuft  facility_monthly_max_cuft  \\\n",
       "count                       1.000000                        1.0   \n",
       "mean                        0.103188                  4050000.0   \n",
       "std                              NaN                        NaN   \n",
       "min                         0.103188                  4050000.0   \n",
       "25%                         0.103188                  4050000.0   \n",
       "50%                         0.103188                  4050000.0   \n",
       "75%                         0.103188                  4050000.0   \n",
       "max                         0.103188                  4050000.0   \n",
       "\n",
       "       facility_monthly_rolling_year_cubic_footage  \\\n",
       "count                                          1.0   \n",
       "mean                                     4050000.0   \n",
       "std                                            NaN   \n",
       "min                                      4050000.0   \n",
       "25%                                      4050000.0   \n",
       "50%                                      4050000.0   \n",
       "75%                                      4050000.0   \n",
       "max                                      4050000.0   \n",
       "\n",
       "       facility_monthly_rolling_year_elec_kbtu  \n",
       "count                             1.000000e+00  \n",
       "mean                              1.331822e+08  \n",
       "std                                        NaN  \n",
       "min                               1.331822e+08  \n",
       "25%                               1.331822e+08  \n",
       "50%                               1.331822e+08  \n",
       "75%                               1.331822e+08  \n",
       "max                               1.331822e+08  "
      ]
     },
     "execution_count": 10,
     "metadata": {},
     "output_type": "execute_result"
    }
   ],
   "source": [
    "import pandas\n",
    "df = pandas.DataFrame(all_facility_data)\n",
    "df.describe()"
   ]
  },
  {
   "cell_type": "code",
   "execution_count": null,
   "id": "dffa809a-02ee-44c8-82b3-dc0f17400d25",
   "metadata": {},
   "outputs": [],
   "source": []
  }
 ],
 "metadata": {
  "kernelspec": {
   "display_name": "Python 3 (ipykernel)",
   "language": "python",
   "name": "python3"
  },
  "language_info": {
   "codemirror_mode": {
    "name": "ipython",
    "version": 3
   },
   "file_extension": ".py",
   "mimetype": "text/x-python",
   "name": "python",
   "nbconvert_exporter": "python",
   "pygments_lexer": "ipython3",
   "version": "3.9.7"
  }
 },
 "nbformat": 4,
 "nbformat_minor": 5
}
