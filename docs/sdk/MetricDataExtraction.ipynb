{
 "cells": [
  {
   "cell_type": "markdown",
   "id": "3085cfd5-debb-46f2-b70a-fe394193f41e",
   "metadata": {},
   "source": [
    "# Goal extract facility data using the Python Contxt SDK\n",
    "\n",
    "## Desired Metrics\n",
    "Per Facility, per day:\n",
    "* 'Utility Meter IDs',\n",
    "* 'AMI Usage',\n",
    "* 'CO2 Factor,\n",
    "* 'CO2 tons per unit',\n",
    "* 'CO2 tons',\n",
    "* 'Cubic Ft',\n",
    "* 'Final Usage,\n",
    "* 'Has Complete Utility Bills',\n",
    "* 'Complete bill data',\n",
    "* 'Inbound Volume,\n",
    "* 'IOT Usage',\n",
    "* 'Outbound Volume',\n",
    "* 'Revenue',\n",
    "* 'UT vs RT Rolling Avg % Change',\n",
    "* 'Statement Meter IDs',\n",
    "* 'UT vs RT % Change',\n",
    "* 'Utility Bill Usage',\n",
    "* 'Spend'"
   ]
  },
  {
   "cell_type": "code",
   "execution_count": 1,
   "id": "f34432aa-19de-48ce-a2c0-f2ab624b1573",
   "metadata": {},
   "outputs": [],
   "source": [
    "from contxt.cli.clients import Clients\n",
    "from contxt.utils.serializer import Serializer\n",
    "\n",
    "import argparse\n",
    "import os, sys\n",
    "from pathlib import Path\n",
    "from datetime import datetime, timedelta\n",
    "import pytz"
   ]
  },
  {
   "cell_type": "markdown",
   "id": "5aa09ed1-8a24-4299-bc3c-b9f8deee5202",
   "metadata": {},
   "source": [
    "# What data are we looking for?"
   ]
  },
  {
   "cell_type": "code",
   "execution_count": 2,
   "id": "530e5ad6-a8a4-4468-8331-bbb9d3b78b52",
   "metadata": {},
   "outputs": [],
   "source": [
    "earliest_date = datetime(2019, 1, 1, tzinfo=pytz.UTC).strftime(\"%Y-%m-%dT%H:%M:%SZ\")"
   ]
  },
  {
   "cell_type": "markdown",
   "id": "9a3294ec-ec03-4d97-9474-5f07d760f357",
   "metadata": {},
   "source": [
    "# Initialize SDK client\n",
    "\n",
    "If you are in a newly installed environment, you will need to configure your environment's Contxt authentication secrets with the CLI command: `contxt auth login` before running this notebook any further."
   ]
  },
  {
   "cell_type": "code",
   "execution_count": 3,
   "id": "1fcda27d-98b8-4dd9-bdfe-bfcdf4624811",
   "metadata": {},
   "outputs": [],
   "source": [
    "clients = Clients(env=\"production\", org_slug=\"lineage\")"
   ]
  },
  {
   "cell_type": "markdown",
   "id": "ee6bf557-71be-4a7b-8509-fcfc2409efca",
   "metadata": {},
   "source": [
    "# Get organization facilities\n",
    "\n",
    "The next cell retrieves all of the organization's facilities."
   ]
  },
  {
   "cell_type": "code",
   "execution_count": 4,
   "id": "9d3d506f-942e-4150-b664-9700703485fe",
   "metadata": {},
   "outputs": [
    {
     "data": {
      "text/plain": [
       "576"
      ]
     },
     "execution_count": 4,
     "metadata": {},
     "output_type": "execute_result"
    }
   ],
   "source": [
    "facilities = clients.facilities.get_facilities()\n",
    "len(facilities)"
   ]
  },
  {
   "cell_type": "markdown",
   "id": "979098fd-1f22-4fe6-8aea-91751875d738",
   "metadata": {},
   "source": [
    "# Retrieving Facility Metrics over a time window"
   ]
  },
  {
   "cell_type": "markdown",
   "id": "e88d5773-9fd6-4425-ad68-fdef4e0e6300",
   "metadata": {},
   "source": [
    "## Locate the facility type definition\n",
    "\n",
    "Contxt's dynamic nature allows for many asset types, but also leads to each organization having a unique definition for their asset types. The below code cell scans the asset type definitions for the organization and locates the definition for the `Facility` asset type. Most critically, later code will depend on the `Facility` asset type definition's unique id."
   ]
  },
  {
   "cell_type": "code",
   "execution_count": 5,
   "id": "f6c3deff-4577-49e9-9625-14d6ab3d6d4a",
   "metadata": {},
   "outputs": [
    {
     "data": {
      "text/plain": [
       "AssetType(label='Facility', description='Physical Facility Locations', organization_id='02efa741-a96f-4124-a463-ae13a704b8fc', id='616eee50-5dd3-4009-b8a3-dedfd8a7d56d', is_global=True, global_asset_type_parent_id='5f310899-d8f9-4dac-ae82-cedb2048a8ef', parent_id=None, hierarchy_level=1, created_at=datetime.datetime(2018, 11, 15, 16, 34, 17, 41000, tzinfo=datetime.timezone.utc), updated_at=datetime.datetime(2018, 11, 15, 16, 34, 17, 41000, tzinfo=datetime.timezone.utc))"
      ]
     },
     "execution_count": 5,
     "metadata": {},
     "output_type": "execute_result"
    }
   ],
   "source": [
    "asset_types = clients.assets.get_asset_types()\n",
    "facility_type = [atype for atype in asset_types if atype.label == 'Facility'][0]\n",
    "facility_type"
   ]
  },
  {
   "cell_type": "markdown",
   "id": "a4f1eedf-2526-4136-95c6-7613eaf4b3bb",
   "metadata": {},
   "source": [
    "## Retrieve Metric Definitions"
   ]
  },
  {
   "cell_type": "code",
   "execution_count": 6,
   "id": "82d6c916-1e3b-47fc-b015-e4bea02abb7b",
   "metadata": {},
   "outputs": [
    {
     "name": "stdout",
     "output_type": "stream",
     "text": [
      "Number of definitions: 69\n"
     ]
    }
   ],
   "source": [
    "#metric_definitions = [metric_def for metric_def in clients.assets.get_metrics(facility_type.id) if metric_def.label in only_metrics]\n",
    "metric_definitions = [mdef for mdef in clients.assets.get_metrics(facility_type.id) if mdef.label != \"Blended Rate\"]\n",
    "print(f\"Number of definitions: {len(metric_definitions)}\")"
   ]
  },
  {
   "cell_type": "markdown",
   "id": "a69c39b9-3374-481b-85fc-a1bd78185cc4",
   "metadata": {},
   "source": [
    "## Retrieving Metric Values\n",
    "\n",
    "Below, we make a python dataclass from our selected metrics. This will allow a degree of data validation as we build the full dataset over relying on simple dictionaries of data."
   ]
  },
  {
   "cell_type": "code",
   "execution_count": 7,
   "id": "bc7fb36e-b720-4256-91a8-517fb9b7437b",
   "metadata": {},
   "outputs": [],
   "source": [
    "from dataclasses import make_dataclass, field\n",
    "from typing import Any\n",
    "\n",
    "\n",
    "FacilityEntry = make_dataclass(\n",
    "    'FacilityEntry',\n",
    "   [\"facility\", \"date\"] + [(mdef.label, Any, field(default=None)) for mdef in metric_definitions])"
   ]
  },
  {
   "cell_type": "markdown",
   "id": "678ea3fe-ac16-4b1d-841d-45eb8713c482",
   "metadata": {},
   "source": [
    "Next, we iterate over each metric for each facility to build out the full data set"
   ]
  },
  {
   "cell_type": "code",
   "execution_count": null,
   "id": "ff3eb3b7-241e-4261-9dd4-a67de8f530cf",
   "metadata": {},
   "outputs": [
    {
     "name": "stdout",
     "output_type": "stream",
     "text": [
      "2022-01-07 21:23:21.586002\n",
      "\tfacility_daily_has_complete_utility_bills not found for Friona (CC: 100189)\n",
      "\tfacility_daily_statement_meters not found for Friona (CC: 100189)\n",
      "Run time as of 1/576: 0.21036103333333334\n",
      "\tfacility_daily_active_meters not found for Everett (CC: 100304)\n",
      "\tfacility_daily_has_complete_utility_bills not found for Everett (CC: 100304)\n",
      "\tfacility_daily_statement_meters not found for Everett (CC: 100304)\n",
      "Run time as of 2/576: 0.38815866666666665\n",
      "\tfacility_daily_active_meters not found for Dayton (CC: 100311)\n",
      "\tfacility_daily_has_complete_utility_bills not found for Dayton (CC: 100311)\n",
      "\tfacility_daily_statement_meters not found for Dayton (CC: 100311)\n",
      "Run time as of 3/576: 0.6030101833333333\n",
      "\tfacility_daily_active_meters not found for Cofer (CC: 100208)\n",
      "\tfacility_daily_has_complete_utility_bills not found for Cofer (CC: 100208)\n",
      "\tfacility_daily_statement_meters not found for Cofer (CC: 100208)\n",
      "Run time as of 4/576: 0.8276538333333333\n",
      "\tfacility_daily_active_meters not found for Albany 3 - Worth (CC: 100141)\n",
      "\tfacility_daily_has_complete_utility_bills not found for Albany 3 - Worth (CC: 100141)\n",
      "\tfacility_daily_statement_meters not found for Albany 3 - Worth (CC: 100141)\n",
      "Run time as of 5/576: 1.01037395\n",
      "Run time as of 6/576: 1.1409031333333333\n",
      "\tfacility_daily_active_meters not found for Colton 1 - De Berry (CC: 100108)\n",
      "\tfacility_daily_has_complete_utility_bills not found for Colton 1 - De Berry (CC: 100108)\n",
      "\tfacility_daily_statement_meters not found for Colton 1 - De Berry (CC: 100108)\n",
      "Run time as of 7/576: 1.3754828333333333\n",
      "Run time as of 8/576: 1.50526895\n",
      "\tfacility_daily_active_meters not found for Bergen op Zoom (CC: 200451)\n",
      "\tfacility_daily_has_complete_utility_bills not found for Bergen op Zoom (CC: 200451)\n",
      "\tfacility_daily_statement_meters not found for Bergen op Zoom (CC: 200451)\n",
      "Run time as of 9/576: 1.74192275\n",
      "Run time as of 10/576: 1.86601675\n",
      "Run time as of 11/576: 1.9872173\n",
      "Run time as of 12/576: 2.1096139833333334\n",
      "\tfacility_daily_active_meters not found for Hillsborough (CC: 100314)\n",
      "\tfacility_daily_has_complete_utility_bills not found for Hillsborough (CC: 100314)\n",
      "\tfacility_daily_statement_meters not found for Hillsborough (CC: 100314)\n",
      "Run time as of 13/576: 2.297390083333333\n",
      "\tfacility_daily_active_meters not found for Colton 2 - Barton (CC: 100109)\n",
      "\tfacility_daily_has_complete_utility_bills not found for Colton 2 - Barton (CC: 100109)\n",
      "\tfacility_daily_statement_meters not found for Colton 2 - Barton (CC: 100109)\n",
      "Run time as of 14/576: 2.5171656\n",
      "Run time as of 15/576: 2.6379443666666664\n",
      "\tfacility_daily_active_meters not found for Kearny (CC: 100322)\n",
      "\tfacility_daily_has_complete_utility_bills not found for Kearny (CC: 100322)\n",
      "\tfacility_daily_statement_meters not found for Kearny (CC: 100322)\n",
      "Run time as of 16/576: 2.8733962\n",
      "\tfacility_daily_active_meters not found for Doolittle (CC: 100320)\n",
      "\tfacility_daily_has_complete_utility_bills not found for Doolittle (CC: 100320)\n",
      "\tfacility_daily_statement_meters not found for Doolittle (CC: 100320)\n",
      "Run time as of 17/576: 3.0646111166666667\n",
      "\tfacility_daily_active_meters not found for El Paso (CC: 100187)\n",
      "\tfacility_daily_has_complete_utility_bills not found for El Paso (CC: 100187)\n",
      "\tfacility_daily_statement_meters not found for El Paso (CC: 100187)\n",
      "Run time as of 18/576: 3.30256485\n",
      "\tfacility_daily_has_complete_utility_bills not found for Tremonton (CC: 100199)\n"
     ]
    }
   ],
   "source": [
    "print((start := datetime.utcnow()))\n",
    "all_facility_data = []\n",
    "for idx, facility in enumerate(facilities):\n",
    "    facility_data = {}\n",
    "    for metric_def in metric_definitions:\n",
    "        try:\n",
    "            metric_values = clients.ems.get_metric_values(\n",
    "                facility.asset_id, metric_def.label, params={\"effective_start_date\": earliest_date})\n",
    "        except Exception:\n",
    "            print(f\"\\t{metric_def.label} not found for {facility.name}\")\n",
    "            continue\n",
    "        for mv in metric_values:\n",
    "            if mv.effective_start_date not in facility_data:\n",
    "                facility_data[mv.effective_start_date] = {metric_def.label: mv.value}\n",
    "            else:\n",
    "                facility_data[mv.effective_start_date][metric_def.label] = mv.value\n",
    "    all_facility_data.extend([FacilityEntry(facility.name, date, **fe) for date, fe in facility_data.items()])\n",
    "    print(f\"Run time as of {idx + 1}/{len(facilities)}: {(datetime.utcnow() - start).total_seconds() / 60}\")\n",
    "print(len(all_facility_data))"
   ]
  },
  {
   "cell_type": "markdown",
   "id": "13e94f91-b569-4946-b065-eeb444372284",
   "metadata": {},
   "source": [
    "At this point, the facility data has been pulled into the python environment and can be manipulated or handed off to other tools. For example, this list of `FacilityEntry` can be converted directly to a Pandas dataframe like so:"
   ]
  },
  {
   "cell_type": "code",
   "execution_count": null,
   "id": "1b9a0e17-a271-4227-a5ff-b9f7b329d552",
   "metadata": {},
   "outputs": [],
   "source": [
    "import pandas\n",
    "df = pandas.DataFrame(all_facility_data)\n",
    "df.to_csv(\"metric_data.csv\", header=True, index=False)\n",
    "df"
   ]
  },
  {
   "cell_type": "code",
   "execution_count": null,
   "id": "d2466a40-442b-4e98-91b2-b5cd310c0b41",
   "metadata": {},
   "outputs": [],
   "source": []
  }
 ],
 "metadata": {
  "kernelspec": {
   "display_name": "Python 3 (ipykernel)",
   "language": "python",
   "name": "python3"
  },
  "language_info": {
   "codemirror_mode": {
    "name": "ipython",
    "version": 3
   },
   "file_extension": ".py",
   "mimetype": "text/x-python",
   "name": "python",
   "nbconvert_exporter": "python",
   "pygments_lexer": "ipython3",
   "version": "3.9.7"
  }
 },
 "nbformat": 4,
 "nbformat_minor": 5
}
